{
  "nbformat": 4,
  "nbformat_minor": 0,
  "metadata": {
    "colab": {
      "provenance": []
    },
    "kernelspec": {
      "name": "python3",
      "display_name": "Python 3"
    },
    "language_info": {
      "name": "python"
    }
  },
  "cells": [
    {
      "cell_type": "markdown",
      "source": [
        "# **Theoretical Questions**"
      ],
      "metadata": {
        "id": "UWqfKiuiVqrf"
      }
    },
    {
      "cell_type": "markdown",
      "source": [
        "Question 1 : What are data structures, and why are they important?\n",
        "\n",
        "Answer:  Data structures are ways of organizing and storing data so that it can be accessed and manipulated efficiently. Data structures are important for faster operations, better memory use, and effective problem-solving."
      ],
      "metadata": {
        "id": "8uZNnxgUUB-z"
      }
    },
    {
      "cell_type": "markdown",
      "source": [
        "Question 2: Explain the difference between mutable and immutable data types with examples\n",
        "\n",
        "Answer:\n",
        "Mutable data type - Can be changed after creation like lists, sets.\n",
        "\n",
        "Example:\n",
        "\n",
        "nums = [1, 2, 3]\n",
        "\n",
        "nums[0] = 10\n",
        "\n",
        "The original list is now modified.\n",
        "\n",
        "Immutable data type - Cannot be changed after creation like strings, tuples.\n",
        "\n",
        "Example:\n",
        "\n",
        "name = \"John\"\n",
        "\n",
        "name = name + \" Doe\"\n",
        "\n",
        "This creates new string, original remains unchanged.\n",
        "\n"
      ],
      "metadata": {
        "id": "jnsV5o-pUTEF"
      }
    },
    {
      "cell_type": "markdown",
      "source": [
        "Question 3. What are the main differences between lists and tuples in Python?\n",
        "\n",
        "Answer: The main differences between lists and tuples in Python are\n",
        "1. Lists are mutable, meaning their elements can be changed after creation. Tuples are immutable, meaning their elements cannot be changed after creation.\n",
        "2. Lists are defined using square brackets `[]`, while tuples are defined using parentheses `()`."
      ],
      "metadata": {
        "id": "aNgiJ3vrV2SX"
      }
    },
    {
      "cell_type": "markdown",
      "source": [
        "Question 4. Describe how dictionaries store data.\n",
        "\n",
        "Answer: Dictionaries store data in the form of key-value pair in a structure called hash table."
      ],
      "metadata": {
        "id": "CgAyJltmWvoq"
      }
    },
    {
      "cell_type": "markdown",
      "source": [
        "Question 5. Why might you use a set instead of a list in Python?\n",
        "\n",
        "Answer: A set is used instead of a list when there is a need to store unique elements and to perfom faster membership checks."
      ],
      "metadata": {
        "id": "BJ1ipfalXhW1"
      }
    },
    {
      "cell_type": "markdown",
      "source": [
        "Question 6. What is a string in Python, and how is it different from a list?\n",
        "\n",
        "Answer: A string in Python is a sequence of characters enclosed in quotes (' ' or \" \").\n",
        "\n",
        "It differs from a list in the following ways:\n",
        "\n",
        "1. A string can only store characters, whereas a list can store elements of any type.\n",
        "\n",
        "2. Strings are immutable whereas lists are mutable."
      ],
      "metadata": {
        "id": "1b0KLY35YOAE"
      }
    },
    {
      "cell_type": "markdown",
      "source": [
        "Question 7.  How do tuples ensure data integrity in Python?\n",
        "\n",
        "Answer: Tuples ensure data integrity by being immutable. This prevents accidental modifications to the stored data."
      ],
      "metadata": {
        "id": "vhVCADs3Yz6w"
      }
    },
    {
      "cell_type": "markdown",
      "source": [
        "Question 8. What is a hash table, and how does it relate to dictionaries in Python?\n",
        "\n",
        "Answer: A hash table is a data structure that stores data in key-value pairs and uses a hash function to map each key to a specific memory location for fast access.\n",
        "\n",
        "In Python, dictionaries are implemented using hash tables, which is why key lookups are very fast."
      ],
      "metadata": {
        "id": "Mi3hoPLwZOsK"
      }
    },
    {
      "cell_type": "markdown",
      "source": [
        "Question 9. Can lists contain different data types in Python?\n",
        "\n",
        "Answer: Yes, lists in Python can contain different data types such as integers, float, strings and even other lists."
      ],
      "metadata": {
        "id": "s2aLRRYsZrBl"
      }
    },
    {
      "cell_type": "markdown",
      "source": [
        "Question 10. Explain why strings are immutable in Python.\n",
        "\n",
        "Answer: Strings are immutable in Python to save memory, keep data safe, and prevent unexpected changes when the same string is shared across variables. Any modifications to the original string actually creates a new string."
      ],
      "metadata": {
        "id": "CcYYefGIaIcn"
      }
    },
    {
      "cell_type": "markdown",
      "source": [
        "Question 11. What advantages do dictionaries offer over lists for certain tasks?\n",
        "\n",
        "Answer: Dictionaries offer faster lookups, easier data mapping with key-value pairs, and automatic handling of unique keys, making them better than lists for tasks involving quick searches or data retrieval by a specific identifier."
      ],
      "metadata": {
        "id": "ngOD3uaybMLC"
      }
    },
    {
      "cell_type": "markdown",
      "source": [
        "Question 12. Describe a scenario where using a tuple would be preferable over a list.\n",
        "\n",
        "Answer: A tuple is better than a list when the user wants to store data that should not change, such as the fixed coordinates of a location or the days of the week."
      ],
      "metadata": {
        "id": "sMw975gLbhp8"
      }
    },
    {
      "cell_type": "markdown",
      "source": [
        "Question 13. How do sets handle duplicate values in Python?\n",
        "\n",
        "Answer: Sets automatically remove duplicate values, making every element of a set unique."
      ],
      "metadata": {
        "id": "84a742ZYfwAf"
      }
    },
    {
      "cell_type": "markdown",
      "source": [
        "Question 14. How does the “in” keyword work differently for lists and dictionaries?\n",
        "\n",
        "Answer: For lists, the \"in\" keyword checks if a value exists among the elements whereas for dictionaries, it checks if a key exists or not."
      ],
      "metadata": {
        "id": "INgXBxNtgHqi"
      }
    },
    {
      "cell_type": "markdown",
      "source": [
        "Question 15.  Can you modify the elements of a tuple? Explain why or why not.\n",
        "\n",
        "Answer:  No, the elements of a tuple cannot be modified because tuples are immutable, meaning their contents cannot be changed, added, or removed after creation."
      ],
      "metadata": {
        "id": "idYF5xOWgkbp"
      }
    },
    {
      "cell_type": "markdown",
      "source": [
        "Question 16. What is a nested dictionary, and give an example of its use case?\n",
        "\n",
        "Answer: A nested dictionary is a dictionary where each value can itself be another dictionary. Example of its use case is storing employee data by ID.\n",
        "\n",
        "Example:\n",
        "\n",
        "employees = {101:{\"name\": \"Alice\", \"dept\": \"HR\"},102:{\"name\": \"Bob\", \"dept\": \"IT\"}}\n"
      ],
      "metadata": {
        "id": "UIulAfNLg_c4"
      }
    },
    {
      "cell_type": "markdown",
      "source": [
        "Question 17. Describe the time complexity of accessing elements in a dictionary.\n",
        "\n",
        "Answer: Accessing an element in a dictionary is O(1), meaning it takes the same time no matter how many items the dictionary has."
      ],
      "metadata": {
        "id": "ZC68bMCBksLA"
      }
    },
    {
      "cell_type": "markdown",
      "source": [
        "Question 18. In what situations are lists preferred over dictionaries?\n",
        "\n",
        "Answer: Lists are preferred when we want to store items in order, allow duplicates, or access elements by their index rather than by a key."
      ],
      "metadata": {
        "id": "0TZZJV_wlZiF"
      }
    },
    {
      "cell_type": "markdown",
      "source": [
        "Question 19. Why are dictionaries considered unordered, and how does that affect data retrieval?\n",
        "\n",
        "Answer: Dictionaries are considered unordered because they store items based on the basis of hash values of keys, not in a fixed sequence. This means we cannot rely on the order of items when retrieving them, but we can access data by its key."
      ],
      "metadata": {
        "id": "PIEdtmnQl7qj"
      }
    },
    {
      "cell_type": "markdown",
      "source": [
        "Question 20. Explain the difference between a list and a dictionary in terms of data retrieval.\n",
        "\n",
        "Answer: In a list, data is retrieved by its index (position), while in a dictionary, data is retrieved by its key."
      ],
      "metadata": {
        "id": "6tIXKIQfm2bj"
      }
    },
    {
      "cell_type": "markdown",
      "source": [
        "# **Practical Questions**"
      ],
      "metadata": {
        "id": "s0zyvVB_VyWY"
      }
    },
    {
      "cell_type": "code",
      "source": [
        "# Question 1. Write a code to create a string with your name and print it.\n",
        "\n",
        "# Answer:\n",
        "\n",
        "name = \"Monimoy Bharadwaj\"\n",
        "print(name)"
      ],
      "metadata": {
        "colab": {
          "base_uri": "https://localhost:8080/"
        },
        "id": "l1gYIL2pV8j9",
        "outputId": "77a46d24-be72-4d10-ffdc-b7993941f899"
      },
      "execution_count": null,
      "outputs": [
        {
          "output_type": "stream",
          "name": "stdout",
          "text": [
            "Monimoy Bharadwaj\n"
          ]
        }
      ]
    },
    {
      "cell_type": "code",
      "source": [
        "# Question 2. Write a code to find the length of the string \"Hello World\".\n",
        "\n",
        "# Answer:\n",
        "\n",
        "str1 = \"Hello World\"\n",
        "print(len(str1))"
      ],
      "metadata": {
        "colab": {
          "base_uri": "https://localhost:8080/"
        },
        "id": "rmtjzyMRWZid",
        "outputId": "dfa312e9-f522-4868-acda-e15142537daf"
      },
      "execution_count": null,
      "outputs": [
        {
          "output_type": "stream",
          "name": "stdout",
          "text": [
            "11\n"
          ]
        }
      ]
    },
    {
      "cell_type": "code",
      "source": [
        "# Question 3. Write a code to slice the first 3 characters from the string \"Python Programming\".\n",
        "\n",
        "# Answer:\n",
        "\n",
        "str2 = \"Python Programming\"\n",
        "print(str2[0:3])"
      ],
      "metadata": {
        "colab": {
          "base_uri": "https://localhost:8080/"
        },
        "id": "3R5atTleWr-h",
        "outputId": "5b13dba0-0f73-4451-e227-79ed5df62435"
      },
      "execution_count": null,
      "outputs": [
        {
          "output_type": "stream",
          "name": "stdout",
          "text": [
            "Pyt\n"
          ]
        }
      ]
    },
    {
      "cell_type": "code",
      "source": [
        "# Question 4. Write a code to convert the string \"hello\" to uppercase.\n",
        "\n",
        "# Answer:\n",
        "\n",
        "str3 = \"hello\"\n",
        "print(str3.upper())"
      ],
      "metadata": {
        "colab": {
          "base_uri": "https://localhost:8080/"
        },
        "id": "9DtN5OGNXFcP",
        "outputId": "43f735b9-6641-4451-bd19-eeba85c5159b"
      },
      "execution_count": null,
      "outputs": [
        {
          "output_type": "stream",
          "name": "stdout",
          "text": [
            "HELLO\n"
          ]
        }
      ]
    },
    {
      "cell_type": "code",
      "source": [
        "# Question 5. Write a code to replace the word \"apple\" with \"orange\" in the string \"I like apple\".\n",
        "\n",
        "# Answer:\n",
        "\n",
        "str4 = \"I like apple\"\n",
        "print(str4.replace(\"apple\",\"orange\"))"
      ],
      "metadata": {
        "colab": {
          "base_uri": "https://localhost:8080/"
        },
        "id": "juJjCbrSXjmx",
        "outputId": "05e32371-fc6d-4217-f357-9a98aed7f897"
      },
      "execution_count": null,
      "outputs": [
        {
          "output_type": "stream",
          "name": "stdout",
          "text": [
            "I like orange\n"
          ]
        }
      ]
    },
    {
      "cell_type": "code",
      "source": [
        "# Question 6. Write a code to create a list with numbers 1 to 5 and print it.\n",
        "\n",
        "# Answer:\n",
        "\n",
        "lst1 = [1,2,3,4,5]\n",
        "print(lst1)"
      ],
      "metadata": {
        "colab": {
          "base_uri": "https://localhost:8080/"
        },
        "id": "6oBNihjMYHPW",
        "outputId": "a175439a-4f66-4fd1-88f2-e21547b345b6"
      },
      "execution_count": null,
      "outputs": [
        {
          "output_type": "stream",
          "name": "stdout",
          "text": [
            "[1, 2, 3, 4, 5]\n"
          ]
        }
      ]
    },
    {
      "cell_type": "code",
      "source": [
        "# Question 7. Write a code to append the number 10 to the list [1,2,3,4].\n",
        "\n",
        "# Answer:\n",
        "\n",
        "lst2 = [1,2,3,4]\n",
        "lst2.append(10)\n",
        "print(lst2)"
      ],
      "metadata": {
        "colab": {
          "base_uri": "https://localhost:8080/"
        },
        "id": "vuy6G-WOYRWY",
        "outputId": "398f9e1b-b4ff-46c1-b25f-77eab5f504fd"
      },
      "execution_count": null,
      "outputs": [
        {
          "output_type": "stream",
          "name": "stdout",
          "text": [
            "[1, 2, 3, 4, 10]\n"
          ]
        }
      ]
    },
    {
      "cell_type": "code",
      "source": [
        "# Question 8. Write a code to remove the number 3 from the list [1,2,3,4,5].\n",
        "\n",
        "# Answer:\n",
        "\n",
        "lst3 = [1,2,3,4,5]\n",
        "lst3.remove(3)\n",
        "print(lst3)"
      ],
      "metadata": {
        "colab": {
          "base_uri": "https://localhost:8080/"
        },
        "id": "mnKthABiYSKk",
        "outputId": "61122176-aa2c-401a-f678-0c79bfb86dab"
      },
      "execution_count": null,
      "outputs": [
        {
          "output_type": "stream",
          "name": "stdout",
          "text": [
            "[1, 2, 4, 5]\n"
          ]
        }
      ]
    },
    {
      "cell_type": "code",
      "source": [
        "# Question 9. Write a code to access the second element in the list ['a','b','c','d'].\n",
        "\n",
        "# Answer:\n",
        "\n",
        "lst4 = ['a','b','c','d']\n",
        "print(lst4[1])"
      ],
      "metadata": {
        "colab": {
          "base_uri": "https://localhost:8080/"
        },
        "id": "FBBgxF1sY766",
        "outputId": "cfcca042-5f54-46c0-b4f7-d6bea5df8d7f"
      },
      "execution_count": null,
      "outputs": [
        {
          "output_type": "stream",
          "name": "stdout",
          "text": [
            "b\n"
          ]
        }
      ]
    },
    {
      "cell_type": "code",
      "source": [
        "# Question 10. Write a code to reverse the list [10,20,30,40,50].\n",
        "\n",
        "# Answer:\n",
        "\n",
        "lst5 = [10,20,30,40,50]\n",
        "print(lst5[::-1])"
      ],
      "metadata": {
        "colab": {
          "base_uri": "https://localhost:8080/"
        },
        "id": "L0gdNb87Y8u5",
        "outputId": "4eef9706-cc40-42e3-a78f-54f7978895e9"
      },
      "execution_count": null,
      "outputs": [
        {
          "output_type": "stream",
          "name": "stdout",
          "text": [
            "[50, 40, 30, 20, 10]\n"
          ]
        }
      ]
    },
    {
      "cell_type": "code",
      "source": [
        "# Question 11. Write a code to create a tuple with the 100, 200, 300 and print it.\n",
        "\n",
        "# Answer:\n",
        "\n",
        "tuple1 = (100,200,300)\n",
        "print(tuple1)"
      ],
      "metadata": {
        "colab": {
          "base_uri": "https://localhost:8080/"
        },
        "id": "3P0EZ7YjY9b1",
        "outputId": "a8c3a144-2d8e-480a-f04a-80c2e27924d2"
      },
      "execution_count": null,
      "outputs": [
        {
          "output_type": "stream",
          "name": "stdout",
          "text": [
            "(100, 200, 300)\n"
          ]
        }
      ]
    },
    {
      "cell_type": "code",
      "source": [
        "# Question 12. Write a code to access the second-to-last element of the tuple ('red','green','blue','yellow').\n",
        "\n",
        "# Answer:\n",
        "\n",
        "tuple2 = ('red','green','blue','yellow')\n",
        "print(tuple2[-2])"
      ],
      "metadata": {
        "colab": {
          "base_uri": "https://localhost:8080/"
        },
        "id": "iu9h1xK-dunI",
        "outputId": "5d53b06a-6d42-4684-86d2-23c49309d527"
      },
      "execution_count": null,
      "outputs": [
        {
          "output_type": "stream",
          "name": "stdout",
          "text": [
            "blue\n"
          ]
        }
      ]
    },
    {
      "cell_type": "code",
      "source": [
        "# Question 13. Write a code to find the minimum number in the tuple (10,20,5,15).\n",
        "\n",
        "# Answer:\n",
        "\n",
        "tuple3 = (10,20,5,15)\n",
        "print(min(tuple3))"
      ],
      "metadata": {
        "id": "r10s21THftJn",
        "colab": {
          "base_uri": "https://localhost:8080/"
        },
        "outputId": "28eb3b74-e964-4ecf-e6ad-a5e971d564b3"
      },
      "execution_count": 4,
      "outputs": [
        {
          "output_type": "stream",
          "name": "stdout",
          "text": [
            "5\n"
          ]
        }
      ]
    },
    {
      "cell_type": "code",
      "source": [
        "# Question 14. Write a code to find the index of the element \"cat\" in the tuple ('dog','cat','rabbit').\n",
        "\n",
        "# Answer:\n",
        "\n",
        "tuple4 = (\"dog\",\"cat\",\"rabbit\")\n",
        "tuple4.index('cat')"
      ],
      "metadata": {
        "colab": {
          "base_uri": "https://localhost:8080/"
        },
        "id": "E1LyGRuWPeeh",
        "outputId": "bc0323ca-b787-4007-9ed7-adf538a442b9"
      },
      "execution_count": null,
      "outputs": [
        {
          "output_type": "execute_result",
          "data": {
            "text/plain": [
              "1"
            ]
          },
          "metadata": {},
          "execution_count": 3
        }
      ]
    },
    {
      "cell_type": "code",
      "source": [
        "# Question 15. Write a code to create a tuple containing three different fruits and check if \"kiwi\" is in it.\n",
        "\n",
        "# Answer\n",
        "\n",
        "tuple5 = (\"apple\",\"mango\",\"kiwi\")\n",
        "print(tuple5)\n",
        "print(\"kiwi\" in tuple5)"
      ],
      "metadata": {
        "colab": {
          "base_uri": "https://localhost:8080/"
        },
        "id": "peoKmELGQJHt",
        "outputId": "b2fadeca-842d-4a96-9563-c5f8d815e3b5"
      },
      "execution_count": null,
      "outputs": [
        {
          "output_type": "stream",
          "name": "stdout",
          "text": [
            "('apple', 'mango', 'kiwi')\n",
            "True\n"
          ]
        }
      ]
    },
    {
      "cell_type": "code",
      "source": [
        "# Question 16. Write a code to create a set with the elements 'a','b','c' and print it.\n",
        "\n",
        "# Answer:\n",
        "\n",
        "set1 = {\"a\",\"b\",\"c\"}\n",
        "print(set1)\n",
        "print(type(set1))"
      ],
      "metadata": {
        "colab": {
          "base_uri": "https://localhost:8080/"
        },
        "id": "neof1mi7Ru5j",
        "outputId": "3b0ce5d3-1276-47d9-8795-4e373d40c13b"
      },
      "execution_count": null,
      "outputs": [
        {
          "output_type": "stream",
          "name": "stdout",
          "text": [
            "{'b', 'a', 'c'}\n",
            "<class 'set'>\n"
          ]
        }
      ]
    },
    {
      "cell_type": "code",
      "source": [
        "# Question 17. Write a code to clear all elements from the set {1,2,3,4,5}.\n",
        "\n",
        "# Answer:\n",
        "\n",
        "set2 = {1,2,3,4,5}\n",
        "set2.clear()\n",
        "print(set2)"
      ],
      "metadata": {
        "colab": {
          "base_uri": "https://localhost:8080/"
        },
        "id": "UzkMttSPSrKP",
        "outputId": "ae14d350-2b19-4eaa-d4c7-c7127c7ef7b5"
      },
      "execution_count": null,
      "outputs": [
        {
          "output_type": "stream",
          "name": "stdout",
          "text": [
            "set()\n"
          ]
        }
      ]
    },
    {
      "cell_type": "code",
      "source": [
        "# Question 18. Write a code to remove the element 4 from the set {1,2,3,4}.\n",
        "\n",
        "# Answer:\n",
        "\n",
        "set3 = {1,2,3,4}\n",
        "set3.remove(4)\n",
        "print(set3)"
      ],
      "metadata": {
        "colab": {
          "base_uri": "https://localhost:8080/"
        },
        "id": "MP3Tdb-pTHYC",
        "outputId": "4c61d3b6-9775-4633-b76a-55edef20d8b0"
      },
      "execution_count": null,
      "outputs": [
        {
          "output_type": "stream",
          "name": "stdout",
          "text": [
            "{1, 2, 3}\n"
          ]
        }
      ]
    },
    {
      "cell_type": "code",
      "source": [
        "# Question 19. Write a code to find the union of two sets {1,2,3} and {3,4,5}.\n",
        "\n",
        "# Answer:\n",
        "\n",
        "a = {1,2,3}\n",
        "b = {3,4,5}\n",
        "print(f\"Union of {a} and {b} is {a|b}\")"
      ],
      "metadata": {
        "colab": {
          "base_uri": "https://localhost:8080/"
        },
        "id": "emz47RsbTsGE",
        "outputId": "f6f9b26d-db8c-496e-f30e-3b2099b21744"
      },
      "execution_count": 3,
      "outputs": [
        {
          "output_type": "stream",
          "name": "stdout",
          "text": [
            "Union of {1, 2, 3} and {3, 4, 5} is {1, 2, 3, 4, 5}\n"
          ]
        }
      ]
    },
    {
      "cell_type": "code",
      "source": [
        "# Question 20. Write a code to find the intersection of two sets {1,2,3} and {2,3,4}.\n",
        "\n",
        "# Answer:\n",
        "\n",
        "c = {1,2,3}\n",
        "d = {2,3,4}\n",
        "print(f\"Intersection of {c} and {d} is {c&d}\")"
      ],
      "metadata": {
        "colab": {
          "base_uri": "https://localhost:8080/"
        },
        "id": "MmWc-OEaT8c4",
        "outputId": "77b7956f-8602-4496-d062-608df54f77a6"
      },
      "execution_count": 5,
      "outputs": [
        {
          "output_type": "stream",
          "name": "stdout",
          "text": [
            "Intersection of {1, 2, 3} and {2, 3, 4} is {2, 3}\n"
          ]
        }
      ]
    },
    {
      "cell_type": "code",
      "source": [
        "# Question 21. Write a code to create a dictionary with the keys \"name\", \"age\", and \"city\", and print it.\n",
        "\n",
        "# Answer:\n",
        "\n",
        "dict1 = {\"name\": \"Monimoy\", \"age\": 24, \"city\": \"Ghy\"}\n",
        "print(dict1)"
      ],
      "metadata": {
        "id": "ZZfUc4NtUeNH",
        "colab": {
          "base_uri": "https://localhost:8080/"
        },
        "outputId": "34712c0b-ab95-4923-fed8-a9e27e1a832e"
      },
      "execution_count": null,
      "outputs": [
        {
          "output_type": "stream",
          "name": "stdout",
          "text": [
            "{'name': 'Monimoy', 'age': 24, 'city': 'Ghy'}\n"
          ]
        }
      ]
    },
    {
      "cell_type": "code",
      "source": [
        "# Question 22. Write a code to add a new key-value pair \"country\":\"USA\" to the dictionary {'name':'John','age':25}.\n",
        "\n",
        "# Answer:\n",
        "\n",
        "dict2 = {\"name\":\"John\",\"age\":25}\n",
        "dict2[\"country\"] = \"USA\"\n",
        "print(dict2)"
      ],
      "metadata": {
        "colab": {
          "base_uri": "https://localhost:8080/"
        },
        "id": "8j73mxh4VRWs",
        "outputId": "a0777717-8ad9-40d0-94ef-80ff3da124a8"
      },
      "execution_count": null,
      "outputs": [
        {
          "output_type": "stream",
          "name": "stdout",
          "text": [
            "{'name': 'John', 'age': 25, 'country': 'USA'}\n"
          ]
        }
      ]
    },
    {
      "cell_type": "code",
      "source": [
        "# Question 23.  Write a code to access the value associated with the key \"name\" in the dictionary {'name': 'Alice', 'age': 30}.\n",
        "\n",
        "# Answer:\n",
        "\n",
        "dict3 = {\"name\":\"Alice\",\"age\":30}\n",
        "print(dict3[\"name\"])"
      ],
      "metadata": {
        "id": "wWYp5X6pWslZ",
        "colab": {
          "base_uri": "https://localhost:8080/"
        },
        "outputId": "9e30c045-395c-433c-bab6-d05d7d85826c"
      },
      "execution_count": 6,
      "outputs": [
        {
          "output_type": "stream",
          "name": "stdout",
          "text": [
            "Alice\n"
          ]
        }
      ]
    },
    {
      "cell_type": "code",
      "source": [
        "# Question 24.  Write a code to remove the key \"age\" from the dictionary {'name': 'Bob', 'age': 22, 'city': 'New York'}.\n",
        "\n",
        "# Answer:\n",
        "\n",
        "dict4 = {\"name\":\"Bob\",\"age\":22,\"city\":\"New York\"}\n",
        "del dict4[\"age\"]\n",
        "print(dict4)"
      ],
      "metadata": {
        "colab": {
          "base_uri": "https://localhost:8080/"
        },
        "id": "RJdmVJhVPq2w",
        "outputId": "d2cdc008-5773-4417-f196-7cbd51ac3cca"
      },
      "execution_count": 4,
      "outputs": [
        {
          "output_type": "stream",
          "name": "stdout",
          "text": [
            "{'name': 'Bob', 'city': 'New York'}\n"
          ]
        }
      ]
    },
    {
      "cell_type": "code",
      "source": [
        "# Question 25.  Write a code to check if the key \"city\" exists in the dictionary {'name': 'Alice', 'city': 'Paris'}.\n",
        "\n",
        "# Answer:\n",
        "\n",
        "dict5 = {\"name\": \"Alice\", \"city\": \"Paris\"}\n",
        "print(\"city\" in dict5)"
      ],
      "metadata": {
        "colab": {
          "base_uri": "https://localhost:8080/"
        },
        "id": "lUiV8R2KQFnI",
        "outputId": "9e3f8226-85e8-4d13-f775-199eb3dfc232"
      },
      "execution_count": 7,
      "outputs": [
        {
          "output_type": "stream",
          "name": "stdout",
          "text": [
            "True\n"
          ]
        },
        {
          "output_type": "execute_result",
          "data": {
            "text/plain": [
              "dict"
            ]
          },
          "metadata": {},
          "execution_count": 7
        }
      ]
    },
    {
      "cell_type": "code",
      "source": [
        "# Question 26. Write a code to create a list, a tuple, and a dictionary, and print them all.\n",
        "\n",
        "# Answer:\n",
        "\n",
        "my_list = [1, 2, 3]\n",
        "my_tuple = (4, 5, 6)\n",
        "my_dict = {\"a\": 7, \"b\": 8, \"c\": 9}\n",
        "\n",
        "print(\"List:\",my_list)\n",
        "print(\"Tuple:\",my_tuple)\n",
        "print(\"Dictionary:\",my_dict)"
      ],
      "metadata": {
        "colab": {
          "base_uri": "https://localhost:8080/"
        },
        "id": "Nl1J9sHOQlsE",
        "outputId": "fca06e9f-d184-4fe8-b2f2-0667714d7417"
      },
      "execution_count": 9,
      "outputs": [
        {
          "output_type": "stream",
          "name": "stdout",
          "text": [
            "List: [1, 2, 3]\n",
            "Tuple: (4, 5, 6)\n",
            "Dictionary: {'a': 7, 'b': 8, 'c': 9}\n"
          ]
        }
      ]
    },
    {
      "cell_type": "code",
      "metadata": {
        "colab": {
          "base_uri": "https://localhost:8080/"
        },
        "id": "9b420614",
        "outputId": "2c5be0be-b755-481d-caee-fdf16f041b08"
      },
      "source": [
        "# Question 27.  Write a code to create a list of 5 random numbers between 1 and 100, sort it in ascending order, and print the\n",
        "# result.(replaced)\n",
        "\n",
        "# Answer:\n",
        "\n",
        "import random\n",
        "random_numbers = random.sample(range(1, 101), 5)\n",
        "random_numbers.sort()\n",
        "print(random_numbers)"
      ],
      "execution_count": 7,
      "outputs": [
        {
          "output_type": "stream",
          "name": "stdout",
          "text": [
            "[22, 30, 36, 60, 85]\n"
          ]
        }
      ]
    },
    {
      "cell_type": "code",
      "source": [
        "# Question 28.  Write a code to create a list with strings and print the element at the third index.\n",
        "\n",
        "# Answer:\n",
        "\n",
        "string_list = [\"apple\", \"banana\", \"cherry\", \"date\", \"elderberry\"]\n",
        "print(string_list[3])"
      ],
      "metadata": {
        "colab": {
          "base_uri": "https://localhost:8080/"
        },
        "id": "3DUrrtalRx8J",
        "outputId": "4b92ecb3-16d8-4c72-a34e-4101ed7f4ecd"
      },
      "execution_count": 11,
      "outputs": [
        {
          "output_type": "stream",
          "name": "stdout",
          "text": [
            "date\n"
          ]
        }
      ]
    },
    {
      "cell_type": "code",
      "source": [
        "# Question 29.  Write a code to combine two dictionaries into one and print the result.\n",
        "\n",
        "# Answer:\n",
        "\n",
        "d1 = {\"a\":1,\"b\":4,\"c\":\"Today\"}\n",
        "d2 = {\"sun\":0,\"day\":\"Thursday\"}\n",
        "d2.update(d1)\n",
        "print(d2)"
      ],
      "metadata": {
        "colab": {
          "base_uri": "https://localhost:8080/"
        },
        "id": "TuqaTOgWSTc9",
        "outputId": "dd7c5463-24a6-4987-c921-e21fdf23bd8a"
      },
      "execution_count": 18,
      "outputs": [
        {
          "output_type": "stream",
          "name": "stdout",
          "text": [
            "{'sun': 0, 'day': 'Thursday', 'a': 1, 'b': 4, 'c': 'Today'}\n"
          ]
        }
      ]
    },
    {
      "cell_type": "code",
      "source": [
        "# Question 30. Write a code to convert a list of strings into a set.\n",
        "\n",
        "# Answer:\n",
        "\n",
        "str_lst = [\"apple\", \"banana\", \"cherry\", \"apple\", \"date\"]\n",
        "str_s = set(str_lst)\n",
        "\n",
        "print(str_s)\n",
        "print(type(str_s))"
      ],
      "metadata": {
        "colab": {
          "base_uri": "https://localhost:8080/"
        },
        "id": "OHjTzo2kTXDD",
        "outputId": "b1b98336-48c1-45dc-c8f7-2bec6b496dc0"
      },
      "execution_count": 21,
      "outputs": [
        {
          "output_type": "stream",
          "name": "stdout",
          "text": [
            "{'banana', 'apple', 'cherry', 'date'}\n",
            "<class 'set'>\n"
          ]
        }
      ]
    }
  ]
}